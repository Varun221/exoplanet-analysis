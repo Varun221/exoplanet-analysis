{
 "cells": [
  {
   "cell_type": "code",
   "execution_count": 1,
   "metadata": {},
   "outputs": [],
   "source": [
    "import numpy as np\n",
    "import pandas as pd\n",
    "import matplotlib.pyplot as plt\n",
    "import seaborn as sns\n",
    "from sklearn.linear_model import LinearRegression\n",
    "from sklearn.cluster import KMeans"
   ]
  },
  {
   "cell_type": "code",
   "execution_count": 2,
   "metadata": {},
   "outputs": [],
   "source": [
    "df=pd.read_csv(\"oec.csv\")"
   ]
  },
  {
   "cell_type": "code",
   "execution_count": 3,
   "metadata": {},
   "outputs": [
    {
     "data": {
      "text/html": [
       "<div>\n",
       "<style scoped>\n",
       "    .dataframe tbody tr th:only-of-type {\n",
       "        vertical-align: middle;\n",
       "    }\n",
       "\n",
       "    .dataframe tbody tr th {\n",
       "        vertical-align: top;\n",
       "    }\n",
       "\n",
       "    .dataframe thead th {\n",
       "        text-align: right;\n",
       "    }\n",
       "</style>\n",
       "<table border=\"1\" class=\"dataframe\">\n",
       "  <thead>\n",
       "    <tr style=\"text-align: right;\">\n",
       "      <th></th>\n",
       "      <th>PlanetIdentifier</th>\n",
       "      <th>TypeFlag</th>\n",
       "      <th>PlanetaryMassJpt</th>\n",
       "      <th>RadiusJpt</th>\n",
       "      <th>PeriodDays</th>\n",
       "      <th>SemiMajorAxisAU</th>\n",
       "      <th>Eccentricity</th>\n",
       "      <th>PeriastronDeg</th>\n",
       "      <th>LongitudeDeg</th>\n",
       "      <th>AscendingNodeDeg</th>\n",
       "      <th>...</th>\n",
       "      <th>LastUpdated</th>\n",
       "      <th>RightAscension</th>\n",
       "      <th>Declination</th>\n",
       "      <th>DistFromSunParsec</th>\n",
       "      <th>HostStarMassSlrMass</th>\n",
       "      <th>HostStarRadiusSlrRad</th>\n",
       "      <th>HostStarMetallicity</th>\n",
       "      <th>HostStarTempK</th>\n",
       "      <th>HostStarAgeGyr</th>\n",
       "      <th>ListsPlanetIsOn</th>\n",
       "    </tr>\n",
       "  </thead>\n",
       "  <tbody>\n",
       "    <tr>\n",
       "      <th>0</th>\n",
       "      <td>HD 143761 b</td>\n",
       "      <td>0</td>\n",
       "      <td>1.0450</td>\n",
       "      <td>NaN</td>\n",
       "      <td>39.845800</td>\n",
       "      <td>0.2196</td>\n",
       "      <td>0.037</td>\n",
       "      <td>270.6</td>\n",
       "      <td>NaN</td>\n",
       "      <td>NaN</td>\n",
       "      <td>...</td>\n",
       "      <td>16/07/11</td>\n",
       "      <td>16 01 03</td>\n",
       "      <td>+33 18 13</td>\n",
       "      <td>17.236</td>\n",
       "      <td>0.889</td>\n",
       "      <td>1.362</td>\n",
       "      <td>-0.31</td>\n",
       "      <td>5627.0</td>\n",
       "      <td>NaN</td>\n",
       "      <td>Confirmed planets</td>\n",
       "    </tr>\n",
       "    <tr>\n",
       "      <th>1</th>\n",
       "      <td>HD 143761 c</td>\n",
       "      <td>0</td>\n",
       "      <td>0.0790</td>\n",
       "      <td>NaN</td>\n",
       "      <td>102.540000</td>\n",
       "      <td>0.4123</td>\n",
       "      <td>0.050</td>\n",
       "      <td>190.0</td>\n",
       "      <td>NaN</td>\n",
       "      <td>NaN</td>\n",
       "      <td>...</td>\n",
       "      <td>16/07/11</td>\n",
       "      <td>16 01 03</td>\n",
       "      <td>+33 18 13</td>\n",
       "      <td>17.236</td>\n",
       "      <td>0.889</td>\n",
       "      <td>1.362</td>\n",
       "      <td>-0.31</td>\n",
       "      <td>5627.0</td>\n",
       "      <td>NaN</td>\n",
       "      <td>Confirmed planets</td>\n",
       "    </tr>\n",
       "    <tr>\n",
       "      <th>2</th>\n",
       "      <td>KOI-1843.03</td>\n",
       "      <td>0</td>\n",
       "      <td>0.0014</td>\n",
       "      <td>0.054</td>\n",
       "      <td>0.176891</td>\n",
       "      <td>0.0048</td>\n",
       "      <td>NaN</td>\n",
       "      <td>NaN</td>\n",
       "      <td>NaN</td>\n",
       "      <td>NaN</td>\n",
       "      <td>...</td>\n",
       "      <td>13/07/15</td>\n",
       "      <td>19 00 03.14</td>\n",
       "      <td>+40 13 14.7</td>\n",
       "      <td>NaN</td>\n",
       "      <td>0.460</td>\n",
       "      <td>0.450</td>\n",
       "      <td>0.00</td>\n",
       "      <td>3584.0</td>\n",
       "      <td>NaN</td>\n",
       "      <td>Controversial</td>\n",
       "    </tr>\n",
       "    <tr>\n",
       "      <th>3</th>\n",
       "      <td>KOI-1843.01</td>\n",
       "      <td>0</td>\n",
       "      <td>NaN</td>\n",
       "      <td>0.114</td>\n",
       "      <td>4.194525</td>\n",
       "      <td>0.0390</td>\n",
       "      <td>NaN</td>\n",
       "      <td>NaN</td>\n",
       "      <td>NaN</td>\n",
       "      <td>NaN</td>\n",
       "      <td>...</td>\n",
       "      <td>NaN</td>\n",
       "      <td>19 00 03.14</td>\n",
       "      <td>+40 13 14.7</td>\n",
       "      <td>NaN</td>\n",
       "      <td>0.460</td>\n",
       "      <td>0.450</td>\n",
       "      <td>0.00</td>\n",
       "      <td>3584.0</td>\n",
       "      <td>NaN</td>\n",
       "      <td>Controversial</td>\n",
       "    </tr>\n",
       "    <tr>\n",
       "      <th>4</th>\n",
       "      <td>KOI-1843.02</td>\n",
       "      <td>0</td>\n",
       "      <td>NaN</td>\n",
       "      <td>0.071</td>\n",
       "      <td>6.356006</td>\n",
       "      <td>0.0520</td>\n",
       "      <td>NaN</td>\n",
       "      <td>NaN</td>\n",
       "      <td>NaN</td>\n",
       "      <td>NaN</td>\n",
       "      <td>...</td>\n",
       "      <td>NaN</td>\n",
       "      <td>19 00 03.14</td>\n",
       "      <td>+40 13 14.7</td>\n",
       "      <td>NaN</td>\n",
       "      <td>0.460</td>\n",
       "      <td>0.450</td>\n",
       "      <td>0.00</td>\n",
       "      <td>3584.0</td>\n",
       "      <td>NaN</td>\n",
       "      <td>Controversial</td>\n",
       "    </tr>\n",
       "  </tbody>\n",
       "</table>\n",
       "<p>5 rows × 25 columns</p>\n",
       "</div>"
      ],
      "text/plain": [
       "  PlanetIdentifier  TypeFlag  PlanetaryMassJpt  RadiusJpt  PeriodDays  \\\n",
       "0      HD 143761 b         0            1.0450        NaN   39.845800   \n",
       "1      HD 143761 c         0            0.0790        NaN  102.540000   \n",
       "2      KOI-1843.03         0            0.0014      0.054    0.176891   \n",
       "3      KOI-1843.01         0               NaN      0.114    4.194525   \n",
       "4      KOI-1843.02         0               NaN      0.071    6.356006   \n",
       "\n",
       "   SemiMajorAxisAU  Eccentricity  PeriastronDeg  LongitudeDeg  \\\n",
       "0           0.2196         0.037          270.6           NaN   \n",
       "1           0.4123         0.050          190.0           NaN   \n",
       "2           0.0048           NaN            NaN           NaN   \n",
       "3           0.0390           NaN            NaN           NaN   \n",
       "4           0.0520           NaN            NaN           NaN   \n",
       "\n",
       "   AscendingNodeDeg  ...  LastUpdated  RightAscension  Declination  \\\n",
       "0               NaN  ...     16/07/11        16 01 03    +33 18 13   \n",
       "1               NaN  ...     16/07/11        16 01 03    +33 18 13   \n",
       "2               NaN  ...     13/07/15     19 00 03.14  +40 13 14.7   \n",
       "3               NaN  ...          NaN     19 00 03.14  +40 13 14.7   \n",
       "4               NaN  ...          NaN     19 00 03.14  +40 13 14.7   \n",
       "\n",
       "  DistFromSunParsec  HostStarMassSlrMass HostStarRadiusSlrRad  \\\n",
       "0            17.236                0.889                1.362   \n",
       "1            17.236                0.889                1.362   \n",
       "2               NaN                0.460                0.450   \n",
       "3               NaN                0.460                0.450   \n",
       "4               NaN                0.460                0.450   \n",
       "\n",
       "  HostStarMetallicity HostStarTempK  HostStarAgeGyr    ListsPlanetIsOn  \n",
       "0               -0.31        5627.0             NaN  Confirmed planets  \n",
       "1               -0.31        5627.0             NaN  Confirmed planets  \n",
       "2                0.00        3584.0             NaN      Controversial  \n",
       "3                0.00        3584.0             NaN      Controversial  \n",
       "4                0.00        3584.0             NaN      Controversial  \n",
       "\n",
       "[5 rows x 25 columns]"
      ]
     },
     "execution_count": 3,
     "metadata": {},
     "output_type": "execute_result"
    }
   ],
   "source": [
    "df.head()"
   ]
  },
  {
   "cell_type": "code",
   "execution_count": 4,
   "metadata": {},
   "outputs": [
    {
     "data": {
      "text/html": [
       "<div>\n",
       "<style scoped>\n",
       "    .dataframe tbody tr th:only-of-type {\n",
       "        vertical-align: middle;\n",
       "    }\n",
       "\n",
       "    .dataframe tbody tr th {\n",
       "        vertical-align: top;\n",
       "    }\n",
       "\n",
       "    .dataframe thead th {\n",
       "        text-align: right;\n",
       "    }\n",
       "</style>\n",
       "<table border=\"1\" class=\"dataframe\">\n",
       "  <thead>\n",
       "    <tr style=\"text-align: right;\">\n",
       "      <th></th>\n",
       "      <th>TypeFlag</th>\n",
       "      <th>PlanetaryMassJpt</th>\n",
       "      <th>RadiusJpt</th>\n",
       "      <th>PeriodDays</th>\n",
       "      <th>SemiMajorAxisAU</th>\n",
       "      <th>Eccentricity</th>\n",
       "      <th>PeriastronDeg</th>\n",
       "      <th>LongitudeDeg</th>\n",
       "      <th>AscendingNodeDeg</th>\n",
       "      <th>InclinationDeg</th>\n",
       "      <th>SurfaceTempK</th>\n",
       "      <th>AgeGyr</th>\n",
       "      <th>DiscoveryYear</th>\n",
       "      <th>DistFromSunParsec</th>\n",
       "      <th>HostStarMassSlrMass</th>\n",
       "      <th>HostStarRadiusSlrRad</th>\n",
       "      <th>HostStarMetallicity</th>\n",
       "      <th>HostStarTempK</th>\n",
       "      <th>HostStarAgeGyr</th>\n",
       "    </tr>\n",
       "  </thead>\n",
       "  <tbody>\n",
       "    <tr>\n",
       "      <th>count</th>\n",
       "      <td>3584.000000</td>\n",
       "      <td>1313.000000</td>\n",
       "      <td>2774.000000</td>\n",
       "      <td>3485.000000</td>\n",
       "      <td>1406.000000</td>\n",
       "      <td>1108.000000</td>\n",
       "      <td>328.000000</td>\n",
       "      <td>43.000000</td>\n",
       "      <td>46.000000</td>\n",
       "      <td>665.000000</td>\n",
       "      <td>741.000000</td>\n",
       "      <td>2.000000</td>\n",
       "      <td>3574.000000</td>\n",
       "      <td>2133.000000</td>\n",
       "      <td>3416.000000</td>\n",
       "      <td>3263.000000</td>\n",
       "      <td>2509.000000</td>\n",
       "      <td>3455.000000</td>\n",
       "      <td>517.000000</td>\n",
       "    </tr>\n",
       "    <tr>\n",
       "      <th>mean</th>\n",
       "      <td>0.097656</td>\n",
       "      <td>2.890944</td>\n",
       "      <td>0.371190</td>\n",
       "      <td>537.248317</td>\n",
       "      <td>2.000170</td>\n",
       "      <td>0.166910</td>\n",
       "      <td>150.363823</td>\n",
       "      <td>144.200847</td>\n",
       "      <td>90.624476</td>\n",
       "      <td>82.973840</td>\n",
       "      <td>871.714170</td>\n",
       "      <td>1.502750</td>\n",
       "      <td>2013.300504</td>\n",
       "      <td>554.912346</td>\n",
       "      <td>0.983225</td>\n",
       "      <td>1.495629</td>\n",
       "      <td>0.016228</td>\n",
       "      <td>5505.514501</td>\n",
       "      <td>4.635355</td>\n",
       "    </tr>\n",
       "    <tr>\n",
       "      <th>std</th>\n",
       "      <td>0.424554</td>\n",
       "      <td>10.204485</td>\n",
       "      <td>0.416871</td>\n",
       "      <td>7509.660676</td>\n",
       "      <td>19.352699</td>\n",
       "      <td>0.189760</td>\n",
       "      <td>117.859945</td>\n",
       "      <td>127.865952</td>\n",
       "      <td>93.047968</td>\n",
       "      <td>21.402768</td>\n",
       "      <td>699.314463</td>\n",
       "      <td>2.117431</td>\n",
       "      <td>6.159674</td>\n",
       "      <td>847.566803</td>\n",
       "      <td>0.319063</td>\n",
       "      <td>3.071298</td>\n",
       "      <td>0.193495</td>\n",
       "      <td>1204.271777</td>\n",
       "      <td>4.657679</td>\n",
       "    </tr>\n",
       "    <tr>\n",
       "      <th>min</th>\n",
       "      <td>0.000000</td>\n",
       "      <td>0.000008</td>\n",
       "      <td>0.002300</td>\n",
       "      <td>0.090706</td>\n",
       "      <td>0.004420</td>\n",
       "      <td>0.000000</td>\n",
       "      <td>-233.000000</td>\n",
       "      <td>-174.640000</td>\n",
       "      <td>-5.112604</td>\n",
       "      <td>-0.000543</td>\n",
       "      <td>102.200000</td>\n",
       "      <td>0.005500</td>\n",
       "      <td>1781.000000</td>\n",
       "      <td>1.295000</td>\n",
       "      <td>0.012000</td>\n",
       "      <td>0.000014</td>\n",
       "      <td>-2.090000</td>\n",
       "      <td>540.000000</td>\n",
       "      <td>0.002200</td>\n",
       "    </tr>\n",
       "    <tr>\n",
       "      <th>25%</th>\n",
       "      <td>0.000000</td>\n",
       "      <td>0.150000</td>\n",
       "      <td>0.141062</td>\n",
       "      <td>4.757940</td>\n",
       "      <td>0.053000</td>\n",
       "      <td>0.020000</td>\n",
       "      <td>66.750000</td>\n",
       "      <td>37.167396</td>\n",
       "      <td>1.509500</td>\n",
       "      <td>85.058000</td>\n",
       "      <td>321.800000</td>\n",
       "      <td>0.754125</td>\n",
       "      <td>2013.000000</td>\n",
       "      <td>60.000000</td>\n",
       "      <td>0.830000</td>\n",
       "      <td>0.810000</td>\n",
       "      <td>-0.050000</td>\n",
       "      <td>5113.000000</td>\n",
       "      <td>2.000000</td>\n",
       "    </tr>\n",
       "    <tr>\n",
       "      <th>50%</th>\n",
       "      <td>0.000000</td>\n",
       "      <td>0.940000</td>\n",
       "      <td>0.209600</td>\n",
       "      <td>13.071630</td>\n",
       "      <td>0.169500</td>\n",
       "      <td>0.100000</td>\n",
       "      <td>139.700000</td>\n",
       "      <td>162.280000</td>\n",
       "      <td>69.821251</td>\n",
       "      <td>87.800000</td>\n",
       "      <td>719.600000</td>\n",
       "      <td>1.502750</td>\n",
       "      <td>2014.000000</td>\n",
       "      <td>333.000000</td>\n",
       "      <td>0.977000</td>\n",
       "      <td>1.000000</td>\n",
       "      <td>0.020000</td>\n",
       "      <td>5634.000000</td>\n",
       "      <td>4.000000</td>\n",
       "    </tr>\n",
       "    <tr>\n",
       "      <th>75%</th>\n",
       "      <td>0.000000</td>\n",
       "      <td>2.500000</td>\n",
       "      <td>0.321518</td>\n",
       "      <td>49.514000</td>\n",
       "      <td>1.250000</td>\n",
       "      <td>0.247282</td>\n",
       "      <td>243.000000</td>\n",
       "      <td>252.625834</td>\n",
       "      <td>169.175000</td>\n",
       "      <td>89.140000</td>\n",
       "      <td>1310.900000</td>\n",
       "      <td>2.251375</td>\n",
       "      <td>2016.000000</td>\n",
       "      <td>773.130000</td>\n",
       "      <td>1.105000</td>\n",
       "      <td>1.250000</td>\n",
       "      <td>0.100000</td>\n",
       "      <td>5940.000000</td>\n",
       "      <td>6.300000</td>\n",
       "    </tr>\n",
       "    <tr>\n",
       "      <th>max</th>\n",
       "      <td>3.000000</td>\n",
       "      <td>263.000000</td>\n",
       "      <td>6.000000</td>\n",
       "      <td>320000.000000</td>\n",
       "      <td>662.000000</td>\n",
       "      <td>0.956000</td>\n",
       "      <td>791.000000</td>\n",
       "      <td>339.300000</td>\n",
       "      <td>320.800000</td>\n",
       "      <td>305.000000</td>\n",
       "      <td>7112.000000</td>\n",
       "      <td>3.000000</td>\n",
       "      <td>2017.000000</td>\n",
       "      <td>8500.000000</td>\n",
       "      <td>4.500000</td>\n",
       "      <td>51.100000</td>\n",
       "      <td>0.560000</td>\n",
       "      <td>29300.000000</td>\n",
       "      <td>80.000000</td>\n",
       "    </tr>\n",
       "  </tbody>\n",
       "</table>\n",
       "</div>"
      ],
      "text/plain": [
       "          TypeFlag  PlanetaryMassJpt    RadiusJpt     PeriodDays  \\\n",
       "count  3584.000000       1313.000000  2774.000000    3485.000000   \n",
       "mean      0.097656          2.890944     0.371190     537.248317   \n",
       "std       0.424554         10.204485     0.416871    7509.660676   \n",
       "min       0.000000          0.000008     0.002300       0.090706   \n",
       "25%       0.000000          0.150000     0.141062       4.757940   \n",
       "50%       0.000000          0.940000     0.209600      13.071630   \n",
       "75%       0.000000          2.500000     0.321518      49.514000   \n",
       "max       3.000000        263.000000     6.000000  320000.000000   \n",
       "\n",
       "       SemiMajorAxisAU  Eccentricity  PeriastronDeg  LongitudeDeg  \\\n",
       "count      1406.000000   1108.000000     328.000000     43.000000   \n",
       "mean          2.000170      0.166910     150.363823    144.200847   \n",
       "std          19.352699      0.189760     117.859945    127.865952   \n",
       "min           0.004420      0.000000    -233.000000   -174.640000   \n",
       "25%           0.053000      0.020000      66.750000     37.167396   \n",
       "50%           0.169500      0.100000     139.700000    162.280000   \n",
       "75%           1.250000      0.247282     243.000000    252.625834   \n",
       "max         662.000000      0.956000     791.000000    339.300000   \n",
       "\n",
       "       AscendingNodeDeg  InclinationDeg  SurfaceTempK    AgeGyr  \\\n",
       "count         46.000000      665.000000    741.000000  2.000000   \n",
       "mean          90.624476       82.973840    871.714170  1.502750   \n",
       "std           93.047968       21.402768    699.314463  2.117431   \n",
       "min           -5.112604       -0.000543    102.200000  0.005500   \n",
       "25%            1.509500       85.058000    321.800000  0.754125   \n",
       "50%           69.821251       87.800000    719.600000  1.502750   \n",
       "75%          169.175000       89.140000   1310.900000  2.251375   \n",
       "max          320.800000      305.000000   7112.000000  3.000000   \n",
       "\n",
       "       DiscoveryYear  DistFromSunParsec  HostStarMassSlrMass  \\\n",
       "count    3574.000000        2133.000000          3416.000000   \n",
       "mean     2013.300504         554.912346             0.983225   \n",
       "std         6.159674         847.566803             0.319063   \n",
       "min      1781.000000           1.295000             0.012000   \n",
       "25%      2013.000000          60.000000             0.830000   \n",
       "50%      2014.000000         333.000000             0.977000   \n",
       "75%      2016.000000         773.130000             1.105000   \n",
       "max      2017.000000        8500.000000             4.500000   \n",
       "\n",
       "       HostStarRadiusSlrRad  HostStarMetallicity  HostStarTempK  \\\n",
       "count           3263.000000          2509.000000    3455.000000   \n",
       "mean               1.495629             0.016228    5505.514501   \n",
       "std                3.071298             0.193495    1204.271777   \n",
       "min                0.000014            -2.090000     540.000000   \n",
       "25%                0.810000            -0.050000    5113.000000   \n",
       "50%                1.000000             0.020000    5634.000000   \n",
       "75%                1.250000             0.100000    5940.000000   \n",
       "max               51.100000             0.560000   29300.000000   \n",
       "\n",
       "       HostStarAgeGyr  \n",
       "count      517.000000  \n",
       "mean         4.635355  \n",
       "std          4.657679  \n",
       "min          0.002200  \n",
       "25%          2.000000  \n",
       "50%          4.000000  \n",
       "75%          6.300000  \n",
       "max         80.000000  "
      ]
     },
     "execution_count": 4,
     "metadata": {},
     "output_type": "execute_result"
    }
   ],
   "source": [
    "df.describe()"
   ]
  },
  {
   "cell_type": "code",
   "execution_count": 5,
   "metadata": {},
   "outputs": [
    {
     "data": {
      "text/plain": [
       "AgeGyr                  0.999442\n",
       "LongitudeDeg            0.988002\n",
       "AscendingNodeDeg        0.987165\n",
       "PeriastronDeg           0.908482\n",
       "HostStarAgeGyr          0.855748\n",
       "InclinationDeg          0.814453\n",
       "SurfaceTempK            0.793248\n",
       "Eccentricity            0.690848\n",
       "PlanetaryMassJpt        0.633650\n",
       "SemiMajorAxisAU         0.607701\n",
       "DistFromSunParsec       0.404855\n",
       "HostStarMetallicity     0.299944\n",
       "RadiusJpt               0.226004\n",
       "HostStarRadiusSlrRad    0.089565\n",
       "HostStarMassSlrMass     0.046875\n",
       "dtype: float64"
      ]
     },
     "execution_count": 5,
     "metadata": {},
     "output_type": "execute_result"
    }
   ],
   "source": [
    "df.isna().mean().sort_values(ascending=False).head(15)\n"
   ]
  },
  {
   "cell_type": "code",
   "execution_count": 6,
   "metadata": {},
   "outputs": [],
   "source": [
    "\n",
    "df=df.dropna(subset=['PlanetaryMassJpt', 'RadiusJpt','SemiMajorAxisAU'])\n"
   ]
  },
  {
   "cell_type": "code",
   "execution_count": 7,
   "metadata": {},
   "outputs": [
    {
     "data": {
      "text/plain": [
       "<matplotlib.axes._subplots.AxesSubplot at 0x7fbccffc8c18>"
      ]
     },
     "execution_count": 7,
     "metadata": {},
     "output_type": "execute_result"
    },
    {
     "data": {
      "image/png": "[encoded data removed]",
      "text/plain": [
       "<Figure size 432x288 with 1 Axes>"
      ]
     },
     "metadata": {
      "needs_background": "light"
     },
     "output_type": "display_data"
    }
   ],
   "source": [
    "df[\"PlanetaryMassJpt\"].hist()"
   ]
  },
  {
   "cell_type": "code",
   "execution_count": 8,
   "metadata": {},
   "outputs": [
    {
     "data": {
      "text/plain": [
       "<matplotlib.axes._subplots.AxesSubplot at 0x7fbccfefa908>"
      ]
     },
     "execution_count": 8,
     "metadata": {},
     "output_type": "execute_result"
    },
    {
     "data": {
      "image/png": "[encoded data removed]",
      "text/plain": [
       "<Figure size 432x288 with 1 Axes>"
      ]
     },
     "metadata": {
      "needs_background": "light"
     },
     "output_type": "display_data"
    }
   ],
   "source": [
    "df[\"RadiusJpt\"].hist()"
   ]
  },
  {
   "cell_type": "markdown",
   "metadata": {},
   "source": [
    "### Highly skewed data for mass radius etc"
   ]
  },
  {
   "cell_type": "code",
   "execution_count": 9,
   "metadata": {},
   "outputs": [],
   "source": [
    "%matplotlib inline"
   ]
  },
  {
   "cell_type": "code",
   "execution_count": 10,
   "metadata": {},
   "outputs": [
    {
     "data": {
      "text/plain": [
       "<matplotlib.collections.PathCollection at 0x7fbccf79a9b0>"
      ]
     },
     "execution_count": 10,
     "metadata": {},
     "output_type": "execute_result"
    },
    {
     "data": {
      "image/png": "[encoded data removed]",
      "text/plain": [
       "<Figure size 432x288 with 1 Axes>"
      ]
     },
     "metadata": {
      "needs_background": "light"
     },
     "output_type": "display_data"
    }
   ],
   "source": [
    "plt.scatter(df[\"RadiusJpt\"],df[\"PlanetaryMassJpt\"])"
   ]
  },
  {
   "cell_type": "markdown",
   "metadata": {},
   "source": [
    "## Removing outliers to get a good scatter plot"
   ]
  },
  {
   "cell_type": "code",
   "execution_count": 11,
   "metadata": {},
   "outputs": [
    {
     "data": {
      "text/plain": [
       "4.1991000000003025"
      ]
     },
     "execution_count": 11,
     "metadata": {},
     "output_type": "execute_result"
    }
   ],
   "source": [
    "df[\"RadiusJpt\"].quantile(0.999)"
   ]
  },
  {
   "cell_type": "markdown",
   "metadata": {},
   "source": [
    "Removing outliers with values more than the 99.9th percentile we get an approximately polynomial graph between radius and mass as expected"
   ]
  },
  {
   "cell_type": "code",
   "execution_count": 12,
   "metadata": {},
   "outputs": [
    {
     "data": {
      "text/plain": [
       "<matplotlib.collections.PathCollection at 0x7fbccbf05b00>"
      ]
     },
     "execution_count": 12,
     "metadata": {},
     "output_type": "execute_result"
    },
    {
     "data": {
      "image/png": "[encoded data removed]",
      "text/plain": [
       "<Figure size 432x288 with 1 Axes>"
      ]
     },
     "metadata": {
      "needs_background": "light"
     },
     "output_type": "display_data"
    }
   ],
   "source": [
    "dfremoved=df[df[\"RadiusJpt\"]<df[\"RadiusJpt\"].quantile(0.999)]\n",
    "dfremoved=dfremoved[dfremoved[\"PlanetaryMassJpt\"]<dfremoved[\"RadiusJpt\"].quantile(0.999)]\n",
    "plt.scatter(dfremoved[\"RadiusJpt\"],dfremoved[\"PlanetaryMassJpt\"])\n",
    "\n",
    "# df=df[df[\"RadiusJpt\"]<1.32]\n",
    "# df=df[df[\"PlanetaryMassJpt\"]<1.47]"
   ]
  },
  {
   "cell_type": "code",
   "execution_count": null,
   "metadata": {},
   "outputs": [],
   "source": []
  },
  {
   "cell_type": "code",
   "execution_count": 13,
   "metadata": {},
   "outputs": [
    {
     "data": {
      "text/plain": [
       "<matplotlib.collections.PathCollection at 0x7fbccbee5400>"
      ]
     },
     "execution_count": 13,
     "metadata": {},
     "output_type": "execute_result"
    },
    {
     "data": {
      "image/png": "[encoded data removed]",
      "text/plain": [
       "<Figure size 432x288 with 1 Axes>"
      ]
     },
     "metadata": {
      "needs_background": "light"
     },
     "output_type": "display_data"
    }
   ],
   "source": [
    "df[\"PlanetaryMassJptlog\"]=df[\"PlanetaryMassJpt\"].apply(np.log)\n",
    "df[\"RadiusJptlog\"]=df[\"RadiusJpt\"].apply(np.log)\n",
    "df[\"SemiMajorAxisAUlog\"]=df[\"SemiMajorAxisAU\"].apply(np.log)\n",
    "plt.scatter(df[\"RadiusJptlog\"],df[\"PlanetaryMassJptlog\"])"
   ]
  },
  {
   "cell_type": "code",
   "execution_count": 14,
   "metadata": {},
   "outputs": [
    {
     "data": {
      "text/html": [
       "<div>\n",
       "<style scoped>\n",
       "    .dataframe tbody tr th:only-of-type {\n",
       "        vertical-align: middle;\n",
       "    }\n",
       "\n",
       "    .dataframe tbody tr th {\n",
       "        vertical-align: top;\n",
       "    }\n",
       "\n",
       "    .dataframe thead th {\n",
       "        text-align: right;\n",
       "    }\n",
       "</style>\n",
       "<table border=\"1\" class=\"dataframe\">\n",
       "  <thead>\n",
       "    <tr style=\"text-align: right;\">\n",
       "      <th></th>\n",
       "      <th>TypeFlag</th>\n",
       "      <th>PlanetaryMassJpt</th>\n",
       "      <th>RadiusJpt</th>\n",
       "      <th>PeriodDays</th>\n",
       "      <th>SemiMajorAxisAU</th>\n",
       "      <th>Eccentricity</th>\n",
       "      <th>PeriastronDeg</th>\n",
       "      <th>LongitudeDeg</th>\n",
       "      <th>AscendingNodeDeg</th>\n",
       "      <th>InclinationDeg</th>\n",
       "      <th>...</th>\n",
       "      <th>DiscoveryYear</th>\n",
       "      <th>DistFromSunParsec</th>\n",
       "      <th>HostStarMassSlrMass</th>\n",
       "      <th>HostStarRadiusSlrRad</th>\n",
       "      <th>HostStarMetallicity</th>\n",
       "      <th>HostStarTempK</th>\n",
       "      <th>HostStarAgeGyr</th>\n",
       "      <th>PlanetaryMassJptlog</th>\n",
       "      <th>RadiusJptlog</th>\n",
       "      <th>SemiMajorAxisAUlog</th>\n",
       "    </tr>\n",
       "  </thead>\n",
       "  <tbody>\n",
       "    <tr>\n",
       "      <th>count</th>\n",
       "      <td>461.000000</td>\n",
       "      <td>461.000000</td>\n",
       "      <td>461.000000</td>\n",
       "      <td>454.000000</td>\n",
       "      <td>461.000000</td>\n",
       "      <td>322.000000</td>\n",
       "      <td>58.000000</td>\n",
       "      <td>14.000000</td>\n",
       "      <td>26.000000</td>\n",
       "      <td>430.000000</td>\n",
       "      <td>...</td>\n",
       "      <td>455.000000</td>\n",
       "      <td>386.000000</td>\n",
       "      <td>453.000000</td>\n",
       "      <td>445.000000</td>\n",
       "      <td>407.000000</td>\n",
       "      <td>451.000000</td>\n",
       "      <td>206.000000</td>\n",
       "      <td>461.000000</td>\n",
       "      <td>461.000000</td>\n",
       "      <td>461.000000</td>\n",
       "    </tr>\n",
       "    <tr>\n",
       "      <th>mean</th>\n",
       "      <td>0.151844</td>\n",
       "      <td>1.535009</td>\n",
       "      <td>1.050761</td>\n",
       "      <td>1235.735000</td>\n",
       "      <td>2.279343</td>\n",
       "      <td>0.071214</td>\n",
       "      <td>132.346373</td>\n",
       "      <td>145.961191</td>\n",
       "      <td>74.396765</td>\n",
       "      <td>84.106710</td>\n",
       "      <td>...</td>\n",
       "      <td>2011.131868</td>\n",
       "      <td>489.801772</td>\n",
       "      <td>1.077680</td>\n",
       "      <td>1.251821</td>\n",
       "      <td>0.066506</td>\n",
       "      <td>5785.782705</td>\n",
       "      <td>4.525839</td>\n",
       "      <td>-0.798987</td>\n",
       "      <td>-0.157986</td>\n",
       "      <td>-2.663618</td>\n",
       "    </tr>\n",
       "    <tr>\n",
       "      <th>std</th>\n",
       "      <td>0.517878</td>\n",
       "      <td>3.081411</td>\n",
       "      <td>0.519615</td>\n",
       "      <td>10450.644806</td>\n",
       "      <td>31.257136</td>\n",
       "      <td>0.137412</td>\n",
       "      <td>141.022131</td>\n",
       "      <td>124.643173</td>\n",
       "      <td>72.531298</td>\n",
       "      <td>15.123550</td>\n",
       "      <td>...</td>\n",
       "      <td>14.210507</td>\n",
       "      <td>601.823319</td>\n",
       "      <td>0.295952</td>\n",
       "      <td>0.584473</td>\n",
       "      <td>0.191883</td>\n",
       "      <td>1682.951586</td>\n",
       "      <td>3.142521</td>\n",
       "      <td>2.055339</td>\n",
       "      <td>0.799159</td>\n",
       "      <td>1.351010</td>\n",
       "    </tr>\n",
       "    <tr>\n",
       "      <th>min</th>\n",
       "      <td>0.000000</td>\n",
       "      <td>0.000008</td>\n",
       "      <td>0.016438</td>\n",
       "      <td>0.176891</td>\n",
       "      <td>0.004800</td>\n",
       "      <td>0.000000</td>\n",
       "      <td>-178.590000</td>\n",
       "      <td>-4.568132</td>\n",
       "      <td>-5.112604</td>\n",
       "      <td>-0.000543</td>\n",
       "      <td>...</td>\n",
       "      <td>1781.000000</td>\n",
       "      <td>6.546000</td>\n",
       "      <td>0.080000</td>\n",
       "      <td>0.089000</td>\n",
       "      <td>-0.640000</td>\n",
       "      <td>2205.000000</td>\n",
       "      <td>0.002650</td>\n",
       "      <td>-11.766768</td>\n",
       "      <td>-4.108166</td>\n",
       "      <td>-5.339139</td>\n",
       "    </tr>\n",
       "    <tr>\n",
       "      <th>25%</th>\n",
       "      <td>0.000000</td>\n",
       "      <td>0.260000</td>\n",
       "      <td>0.832944</td>\n",
       "      <td>2.777413</td>\n",
       "      <td>0.038660</td>\n",
       "      <td>0.000000</td>\n",
       "      <td>65.125000</td>\n",
       "      <td>38.270022</td>\n",
       "      <td>1.509500</td>\n",
       "      <td>85.044500</td>\n",
       "      <td>...</td>\n",
       "      <td>2010.000000</td>\n",
       "      <td>184.750000</td>\n",
       "      <td>0.938000</td>\n",
       "      <td>0.944000</td>\n",
       "      <td>-0.020000</td>\n",
       "      <td>5449.500000</td>\n",
       "      <td>2.212500</td>\n",
       "      <td>-1.347074</td>\n",
       "      <td>-0.182789</td>\n",
       "      <td>-3.252950</td>\n",
       "    </tr>\n",
       "    <tr>\n",
       "      <th>50%</th>\n",
       "      <td>0.000000</td>\n",
       "      <td>0.760000</td>\n",
       "      <td>1.123000</td>\n",
       "      <td>3.787708</td>\n",
       "      <td>0.048800</td>\n",
       "      <td>0.010900</td>\n",
       "      <td>122.630000</td>\n",
       "      <td>117.383458</td>\n",
       "      <td>63.285000</td>\n",
       "      <td>87.125000</td>\n",
       "      <td>...</td>\n",
       "      <td>2012.000000</td>\n",
       "      <td>330.000000</td>\n",
       "      <td>1.078000</td>\n",
       "      <td>1.130000</td>\n",
       "      <td>0.070000</td>\n",
       "      <td>5778.000000</td>\n",
       "      <td>4.200000</td>\n",
       "      <td>-0.274437</td>\n",
       "      <td>0.116004</td>\n",
       "      <td>-3.020025</td>\n",
       "    </tr>\n",
       "    <tr>\n",
       "      <th>75%</th>\n",
       "      <td>0.000000</td>\n",
       "      <td>1.470000</td>\n",
       "      <td>1.339000</td>\n",
       "      <td>7.919539</td>\n",
       "      <td>0.077500</td>\n",
       "      <td>0.077750</td>\n",
       "      <td>178.140000</td>\n",
       "      <td>248.930088</td>\n",
       "      <td>112.805410</td>\n",
       "      <td>88.707500</td>\n",
       "      <td>...</td>\n",
       "      <td>2015.000000</td>\n",
       "      <td>613.202790</td>\n",
       "      <td>1.240000</td>\n",
       "      <td>1.497000</td>\n",
       "      <td>0.200000</td>\n",
       "      <td>6105.000000</td>\n",
       "      <td>6.200000</td>\n",
       "      <td>0.385262</td>\n",
       "      <td>0.291923</td>\n",
       "      <td>-2.557477</td>\n",
       "    </tr>\n",
       "    <tr>\n",
       "      <th>max</th>\n",
       "      <td>2.000000</td>\n",
       "      <td>30.000000</td>\n",
       "      <td>6.000000</td>\n",
       "      <td>166510.000000</td>\n",
       "      <td>662.000000</td>\n",
       "      <td>0.933690</td>\n",
       "      <td>791.000000</td>\n",
       "      <td>339.300000</td>\n",
       "      <td>270.000000</td>\n",
       "      <td>138.200000</td>\n",
       "      <td>...</td>\n",
       "      <td>2017.000000</td>\n",
       "      <td>8500.000000</td>\n",
       "      <td>2.820000</td>\n",
       "      <td>6.300000</td>\n",
       "      <td>0.440000</td>\n",
       "      <td>27730.000000</td>\n",
       "      <td>13.900000</td>\n",
       "      <td>3.401197</td>\n",
       "      <td>1.791759</td>\n",
       "      <td>6.495266</td>\n",
       "    </tr>\n",
       "  </tbody>\n",
       "</table>\n",
       "<p>8 rows × 22 columns</p>\n",
       "</div>"
      ],
      "text/plain": [
       "         TypeFlag  PlanetaryMassJpt   RadiusJpt     PeriodDays  \\\n",
       "count  461.000000        461.000000  461.000000     454.000000   \n",
       "mean     0.151844          1.535009    1.050761    1235.735000   \n",
       "std      0.517878          3.081411    0.519615   10450.644806   \n",
       "min      0.000000          0.000008    0.016438       0.176891   \n",
       "25%      0.000000          0.260000    0.832944       2.777413   \n",
       "50%      0.000000          0.760000    1.123000       3.787708   \n",
       "75%      0.000000          1.470000    1.339000       7.919539   \n",
       "max      2.000000         30.000000    6.000000  166510.000000   \n",
       "\n",
       "       SemiMajorAxisAU  Eccentricity  PeriastronDeg  LongitudeDeg  \\\n",
       "count       461.000000    322.000000      58.000000     14.000000   \n",
       "mean          2.279343      0.071214     132.346373    145.961191   \n",
       "std          31.257136      0.137412     141.022131    124.643173   \n",
       "min           0.004800      0.000000    -178.590000     -4.568132   \n",
       "25%           0.038660      0.000000      65.125000     38.270022   \n",
       "50%           0.048800      0.010900     122.630000    117.383458   \n",
       "75%           0.077500      0.077750     178.140000    248.930088   \n",
       "max         662.000000      0.933690     791.000000    339.300000   \n",
       "\n",
       "       AscendingNodeDeg  InclinationDeg  ...  DiscoveryYear  \\\n",
       "count         26.000000      430.000000  ...     455.000000   \n",
       "mean          74.396765       84.106710  ...    2011.131868   \n",
       "std           72.531298       15.123550  ...      14.210507   \n",
       "min           -5.112604       -0.000543  ...    1781.000000   \n",
       "25%            1.509500       85.044500  ...    2010.000000   \n",
       "50%           63.285000       87.125000  ...    2012.000000   \n",
       "75%          112.805410       88.707500  ...    2015.000000   \n",
       "max          270.000000      138.200000  ...    2017.000000   \n",
       "\n",
       "       DistFromSunParsec  HostStarMassSlrMass  HostStarRadiusSlrRad  \\\n",
       "count         386.000000           453.000000            445.000000   \n",
       "mean          489.801772             1.077680              1.251821   \n",
       "std           601.823319             0.295952              0.584473   \n",
       "min             6.546000             0.080000              0.089000   \n",
       "25%           184.750000             0.938000              0.944000   \n",
       "50%           330.000000             1.078000              1.130000   \n",
       "75%           613.202790             1.240000              1.497000   \n",
       "max          8500.000000             2.820000              6.300000   \n",
       "\n",
       "       HostStarMetallicity  HostStarTempK  HostStarAgeGyr  \\\n",
       "count           407.000000     451.000000      206.000000   \n",
       "mean              0.066506    5785.782705        4.525839   \n",
       "std               0.191883    1682.951586        3.142521   \n",
       "min              -0.640000    2205.000000        0.002650   \n",
       "25%              -0.020000    5449.500000        2.212500   \n",
       "50%               0.070000    5778.000000        4.200000   \n",
       "75%               0.200000    6105.000000        6.200000   \n",
       "max               0.440000   27730.000000       13.900000   \n",
       "\n",
       "       PlanetaryMassJptlog  RadiusJptlog  SemiMajorAxisAUlog  \n",
       "count           461.000000    461.000000          461.000000  \n",
       "mean             -0.798987     -0.157986           -2.663618  \n",
       "std               2.055339      0.799159            1.351010  \n",
       "min             -11.766768     -4.108166           -5.339139  \n",
       "25%              -1.347074     -0.182789           -3.252950  \n",
       "50%              -0.274437      0.116004           -3.020025  \n",
       "75%               0.385262      0.291923           -2.557477  \n",
       "max               3.401197      1.791759            6.495266  \n",
       "\n",
       "[8 rows x 22 columns]"
      ]
     },
     "execution_count": 14,
     "metadata": {},
     "output_type": "execute_result"
    }
   ],
   "source": [
    "df.describe()"
   ]
  },
  {
   "cell_type": "code",
   "execution_count": 15,
   "metadata": {},
   "outputs": [],
   "source": [
    "linearRegressor = LinearRegression()"
   ]
  },
  {
   "cell_type": "code",
   "execution_count": 16,
   "metadata": {},
   "outputs": [],
   "source": [
    "xTrain=df[[\"RadiusJptlog\"]]\n",
    "yTrain=df[\"PlanetaryMassJptlog\"]"
   ]
  },
  {
   "cell_type": "code",
   "execution_count": 17,
   "metadata": {},
   "outputs": [
    {
     "data": {
      "text/plain": [
       "LinearRegression(copy_X=True, fit_intercept=True, n_jobs=None, normalize=False)"
      ]
     },
     "execution_count": 17,
     "metadata": {},
     "output_type": "execute_result"
    }
   ],
   "source": [
    "linearRegressor.fit(xTrain,yTrain)"
   ]
  },
  {
   "cell_type": "code",
   "execution_count": 18,
   "metadata": {},
   "outputs": [
    {
     "data": {
      "image/png": "[encoded data removed]",
      "text/plain": [
       "<Figure size 432x288 with 1 Axes>"
      ]
     },
     "metadata": {
      "needs_background": "light"
     },
     "output_type": "display_data"
    }
   ],
   "source": [
    "plt.scatter(xTrain, yTrain, color = 'red')\n",
    "plt.plot(xTrain, linearRegressor.predict(xTrain), color = 'blue')\n",
    "plt.title('Radius vs Mass of planets')\n",
    "plt.xlabel('log(Radius)')\n",
    "plt.ylabel('log(Mass)')\n",
    "plt.show()"
   ]
  },
  {
   "cell_type": "markdown",
   "metadata": {},
   "source": [
    "Correlation coefficient"
   ]
  },
  {
   "cell_type": "code",
   "execution_count": 19,
   "metadata": {},
   "outputs": [
    {
     "data": {
      "text/plain": [
       "0.7340796104771484"
      ]
     },
     "execution_count": 19,
     "metadata": {},
     "output_type": "execute_result"
    }
   ],
   "source": [
    "linearRegressor.score(xTrain,yTrain)"
   ]
  },
  {
   "cell_type": "code",
   "execution_count": 20,
   "metadata": {},
   "outputs": [
    {
     "data": {
      "text/plain": [
       "array([2.20354528])"
      ]
     },
     "execution_count": 20,
     "metadata": {},
     "output_type": "execute_result"
    }
   ],
   "source": [
    "linearRegressor.coef_"
   ]
  },
  {
   "cell_type": "code",
   "execution_count": 21,
   "metadata": {},
   "outputs": [
    {
     "data": {
      "text/plain": [
       "-0.450858304370371"
      ]
     },
     "execution_count": 21,
     "metadata": {},
     "output_type": "execute_result"
    }
   ],
   "source": [
    "linearRegressor.intercept_"
   ]
  },
  {
   "cell_type": "code",
   "execution_count": 22,
   "metadata": {},
   "outputs": [
    {
     "data": {
      "text/plain": [
       "array([-0.4508583 ,  1.75268698])"
      ]
     },
     "execution_count": 22,
     "metadata": {},
     "output_type": "execute_result"
    }
   ],
   "source": [
    "linearRegressor.predict(np.array([[0],[1]]))"
   ]
  },
  {
   "cell_type": "markdown",
   "metadata": {},
   "source": [
    "log(Mass)=2.2*log(Radius)-0.45\n",
    "\n",
    "Predicted : Mass=0.637*Radius^2.2\n",
    "Actual : Mass=c*Radius^3"
   ]
  },
  {
   "cell_type": "code",
   "execution_count": 23,
   "metadata": {},
   "outputs": [],
   "source": [
    "km = KMeans(\n",
    "    n_clusters=2, init='random',\n",
    "    n_init=10, max_iter=300, \n",
    "    tol=1e-04, random_state=0\n",
    ")"
   ]
  },
  {
   "cell_type": "code",
   "execution_count": 24,
   "metadata": {},
   "outputs": [],
   "source": [
    "X=np.array(df[[\"RadiusJptlog\",\"PlanetaryMassJptlog\"]])\n",
    "X=X.reshape(-1,2)"
   ]
  },
  {
   "cell_type": "code",
   "execution_count": 25,
   "metadata": {},
   "outputs": [
    {
     "data": {
      "text/plain": [
       "array([0, 1, 1, 0, 1, 1, 0, 0, 1, 1, 1, 1, 1, 1, 1, 1, 0, 0, 1, 1, 1, 1,\n",
       "       1, 1, 1, 1, 1, 1, 1, 1, 1, 1, 1, 1, 1, 1, 1, 1, 1, 1, 1, 1, 1, 0,\n",
       "       1, 1, 1, 1, 1, 1, 1, 1, 1, 1, 1, 1, 1, 1, 1, 1, 1, 1, 1, 0, 0, 0,\n",
       "       0, 1, 1, 0, 0, 0, 1, 1, 1, 1, 1, 1, 1, 1, 0, 1, 0, 0, 1, 1, 1, 1,\n",
       "       1, 1, 1, 1, 1, 1, 1, 1, 1, 1, 1, 1, 1, 1, 1, 1, 1, 1, 1, 1, 1, 1,\n",
       "       1, 1, 1, 1, 1, 1, 0, 1, 1, 1, 1, 1, 1, 1, 1, 1, 1, 1, 1, 1, 1, 0,\n",
       "       0, 1, 1, 1, 1, 0, 1, 1, 1, 1, 1, 0, 0, 0, 1, 0, 1, 0, 1, 1, 1, 1,\n",
       "       1, 1, 1, 1, 0, 1, 0, 1, 1, 0, 1, 1, 1, 1, 1, 1, 1, 1, 1, 1, 1, 1,\n",
       "       1, 1, 1, 1, 1, 1, 1, 1, 1, 1, 1, 1, 0, 0, 0, 0, 0, 1, 1, 1, 1, 1,\n",
       "       1, 1, 1, 1, 0, 0, 0, 1, 1, 1, 1, 1, 1, 1, 1, 1, 1, 1, 1, 1, 1, 1,\n",
       "       1, 0, 1, 1, 1, 1, 1, 1, 1, 1, 1, 1, 1, 1, 1, 1, 1, 1, 1, 1, 1, 1,\n",
       "       1, 0, 0, 1, 1, 1, 1, 1, 1, 1, 1, 1, 0, 0, 1, 0, 0, 0, 1, 1, 0, 1,\n",
       "       1, 1, 1, 1, 1, 1, 1, 1, 1, 1, 1, 1, 1, 1, 0, 0, 0, 0, 0, 0, 0, 1,\n",
       "       1, 1, 1, 1, 1, 0, 1, 1, 1, 1, 1, 1, 1, 1, 1, 1, 1, 1, 1, 1, 1, 1,\n",
       "       1, 1, 1, 1, 1, 1, 1, 1, 1, 1, 1, 0, 0, 1, 0, 0, 0, 0, 0, 0, 1, 1,\n",
       "       1, 1, 1, 1, 1, 1, 0, 1, 1, 1, 1, 1, 1, 1, 1, 1, 1, 1, 0, 0, 0, 1,\n",
       "       1, 0, 0, 0, 0, 1, 1, 1, 1, 0, 1, 0, 1, 0, 1, 0, 0, 0, 1, 1, 0, 0,\n",
       "       1, 0, 1, 1, 1, 1, 0, 0, 1, 1, 1, 1, 0, 0, 1, 1, 1, 0, 0, 1, 1, 1,\n",
       "       1, 1, 0, 0, 0, 1, 1, 0, 0, 0, 1, 1, 1, 1, 1, 1, 1, 1, 1, 1, 1, 1,\n",
       "       1, 1, 1, 1, 1, 1, 1, 1, 0, 0, 1, 1, 1, 1, 1, 1, 1, 1, 1, 1, 1, 1,\n",
       "       1, 1, 1, 1, 1, 1, 1, 1, 1, 1, 1, 1, 1, 1, 1, 1, 1, 1, 1, 1, 1],\n",
       "      dtype=int32)"
      ]
     },
     "execution_count": 25,
     "metadata": {},
     "output_type": "execute_result"
    }
   ],
   "source": [
    "km.fit(X)\n",
    "y_km = km.fit_predict(X)\n",
    "y_km"
   ]
  },
  {
   "cell_type": "code",
   "execution_count": 26,
   "metadata": {},
   "outputs": [
    {
     "data": {
      "image/png": "[encoded data removed]",
      "text/plain": [
       "<Figure size 432x288 with 1 Axes>"
      ]
     },
     "metadata": {
      "needs_background": "light"
     },
     "output_type": "display_data"
    }
   ],
   "source": [
    "plt.scatter(\n",
    "    X[y_km == 0, 0], X[y_km == 0, 1],\n",
    "    s=50, c='lightgreen',\n",
    "    edgecolor='black',\n",
    "    label='rocky planets'\n",
    ")\n",
    "\n",
    "plt.scatter(\n",
    "    X[y_km == 1, 0], X[y_km == 1, 1],\n",
    "    s=50, c='orange',\n",
    "    edgecolor='black',\n",
    "    label='gas giants'\n",
    ")\n",
    "plt.title('Radius vs Mass of planets')\n",
    "plt.xlabel('log(Radius)')\n",
    "plt.ylabel('log(Mass)')\n",
    "\n",
    "plt.legend(scatterpoints=1)\n",
    "plt.show()"
   ]
  },
  {
   "cell_type": "code",
   "execution_count": 27,
   "metadata": {},
   "outputs": [],
   "source": [
    "df[\"cluster\"]=y_km"
   ]
  },
  {
   "cell_type": "code",
   "execution_count": null,
   "metadata": {},
   "outputs": [],
   "source": []
  },
  {
   "cell_type": "code",
   "execution_count": 28,
   "metadata": {},
   "outputs": [],
   "source": [
    "df[\"MassRadiusLogRatio\"]=df[\"PlanetaryMassJptlog\"]/df[\"RadiusJptlog\"]"
   ]
  },
  {
   "cell_type": "code",
   "execution_count": 29,
   "metadata": {},
   "outputs": [
    {
     "data": {
      "text/html": [
       "<div>\n",
       "<style scoped>\n",
       "    .dataframe tbody tr th:only-of-type {\n",
       "        vertical-align: middle;\n",
       "    }\n",
       "\n",
       "    .dataframe tbody tr th {\n",
       "        vertical-align: top;\n",
       "    }\n",
       "\n",
       "    .dataframe thead th {\n",
       "        text-align: right;\n",
       "    }\n",
       "</style>\n",
       "<table border=\"1\" class=\"dataframe\">\n",
       "  <thead>\n",
       "    <tr style=\"text-align: right;\">\n",
       "      <th></th>\n",
       "      <th>MassRadiusLogRatio</th>\n",
       "    </tr>\n",
       "    <tr>\n",
       "      <th>cluster</th>\n",
       "      <th></th>\n",
       "    </tr>\n",
       "  </thead>\n",
       "  <tbody>\n",
       "    <tr>\n",
       "      <th>0</th>\n",
       "      <td>3.656445</td>\n",
       "    </tr>\n",
       "    <tr>\n",
       "      <th>1</th>\n",
       "      <td>NaN</td>\n",
       "    </tr>\n",
       "  </tbody>\n",
       "</table>\n",
       "</div>"
      ],
      "text/plain": [
       "         MassRadiusLogRatio\n",
       "cluster                    \n",
       "0                  3.656445\n",
       "1                       NaN"
      ]
     },
     "execution_count": 29,
     "metadata": {},
     "output_type": "execute_result"
    }
   ],
   "source": [
    "df.groupby(\"cluster\").agg({\"MassRadiusLogRatio\":\"mean\"})"
   ]
  },
  {
   "cell_type": "code",
   "execution_count": 39,
   "metadata": {},
   "outputs": [],
   "source": [
    "df[\"MassRadiusCubeRatio\"]=df[\"PlanetaryMassJpt\"]/df[\"RadiusJpt\"]**3"
   ]
  },
  {
   "cell_type": "code",
   "execution_count": 40,
   "metadata": {},
   "outputs": [
    {
     "data": {
      "text/html": [
       "<div>\n",
       "<style scoped>\n",
       "    .dataframe tbody tr th:only-of-type {\n",
       "        vertical-align: middle;\n",
       "    }\n",
       "\n",
       "    .dataframe tbody tr th {\n",
       "        vertical-align: top;\n",
       "    }\n",
       "\n",
       "    .dataframe thead th {\n",
       "        text-align: right;\n",
       "    }\n",
       "</style>\n",
       "<table border=\"1\" class=\"dataframe\">\n",
       "  <thead>\n",
       "    <tr style=\"text-align: right;\">\n",
       "      <th></th>\n",
       "      <th>MassRadiusCubeRatio</th>\n",
       "    </tr>\n",
       "    <tr>\n",
       "      <th>cluster</th>\n",
       "      <th></th>\n",
       "    </tr>\n",
       "  </thead>\n",
       "  <tbody>\n",
       "    <tr>\n",
       "      <th>0</th>\n",
       "      <td>2.943103</td>\n",
       "    </tr>\n",
       "    <tr>\n",
       "      <th>1</th>\n",
       "      <td>1.433324</td>\n",
       "    </tr>\n",
       "  </tbody>\n",
       "</table>\n",
       "</div>"
      ],
      "text/plain": [
       "         MassRadiusCubeRatio\n",
       "cluster                     \n",
       "0                   2.943103\n",
       "1                   1.433324"
      ]
     },
     "execution_count": 40,
     "metadata": {},
     "output_type": "execute_result"
    }
   ],
   "source": [
    "df.groupby(\"cluster\").agg({\"MassRadiusCubeRatio\":\"mean\"})"
   ]
  },
  {
   "cell_type": "code",
   "execution_count": 41,
   "metadata": {},
   "outputs": [
    {
     "data": {
      "image/png": "[encoded data removed]",
      "text/plain": [
       "<Figure size 432x288 with 1 Axes>"
      ]
     },
     "metadata": {
      "needs_background": "light"
     },
     "output_type": "display_data"
    }
   ],
   "source": [
    "plt.boxplot([df[df[\"cluster\"]==0][\"MassRadiusCubeRatio\"],df[df[\"cluster\"]==1][\"MassRadiusCubeRatio\"]])\n",
    "positions = (1, 2)\n",
    "labels = (\"Rocky planets\", \"Gas giants\")\n",
    "plt.ylabel('Density')\n",
    "plt.xticks(positions, labels)\n",
    "plt.show()"
   ]
  },
  {
   "cell_type": "code",
   "execution_count": null,
   "metadata": {},
   "outputs": [],
   "source": []
  }
 ],
 "metadata": {
  "kernelspec": {
   "display_name": "Python 3",
   "language": "python",
   "name": "python3"
  },
  "language_info": {
   "codemirror_mode": {
    "name": "ipython",
    "version": 3
   },
   "file_extension": ".py",
   "mimetype": "text/x-python",
   "name": "python",
   "nbconvert_exporter": "python",
   "pygments_lexer": "ipython3",
   "version": "3.6.8"
  }
 },
 "nbformat": 4,
 "nbformat_minor": 2
}
